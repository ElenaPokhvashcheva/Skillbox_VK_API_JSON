{
 "cells": [
  {
   "cell_type": "markdown",
   "metadata": {
    "id": "5OXer84FHVAU"
   },
   "source": [
    "## Часть вторая"
   ]
  },
  {
   "cell_type": "code",
   "execution_count": 24,
   "metadata": {},
   "outputs": [
    {
     "name": "stdout",
     "output_type": "stream",
     "text": [
      "Requirement already satisfied: psycopg2-binary in c:\\users\\user\\anaconda3\\lib\\site-packages (2.8.6)\n",
      "Note: you may need to restart the kernel to use updated packages.\n"
     ]
    }
   ],
   "source": [
    "pip install psycopg2-binary"
   ]
  },
  {
   "cell_type": "code",
   "execution_count": 162,
   "metadata": {
    "colab": {
     "base_uri": "https://localhost:8080/",
     "height": 35
    },
    "id": "7b1vJYVrHVAR",
    "outputId": "fc1b572c-2361-4273-f105-f2ea209d99a2"
   },
   "outputs": [],
   "source": [
    "import psycopg2\n",
    "import pandas as pd\n",
    "import pymongo\n",
    "import sqlalchemy\n",
    "import matplotlib.pyplot as plt\n",
    "%matplotlib inline\n",
    "import matplotlib.patches as mpatches\n",
    "import matplotlib as mpl\n",
    "from datetime import datetime, timedelta\n",
    "import numpy as np\n",
    "import requests\n",
    "import re\n",
    "import seaborn as sns"
   ]
  },
  {
   "cell_type": "code",
   "execution_count": 163,
   "metadata": {
    "id": "7SzjqiQLHVAW"
   },
   "outputs": [],
   "source": [
    "# создадим функцию, чтобы отправлять JSON-запросы к API VK\n",
    "\n",
    "def getjson(url):\n",
    "    response = requests.get(url)\n",
    "    response = response.json()\n",
    "    return response\n"
   ]
  },
  {
   "cell_type": "code",
   "execution_count": 164,
   "metadata": {},
   "outputs": [],
   "source": [
    "# получаем последнюю запись из паблика Skillbox Вконтакте\n",
    "''\n",
    "vk_token = # здесь секретный токен\n",
    "\n",
    "url = 'https://api.vk.com/method/wall.get?access_token=' + str(vk_token) + '&owner_id=-66669811&count=1&v=5.92'\n",
    "response2 = getjson(url)\n"
   ]
  },
  {
   "cell_type": "code",
   "execution_count": 165,
   "metadata": {},
   "outputs": [],
   "source": [
    "# сдвигаем запрос и получаем запись из паблика Skillbox Вконтакте на 27 ноя в 19:38 (про черную пятницу, offset=10)\n",
    "url = 'https://api.vk.com/method/wall.get?access_token=' + str(vk_token) + '&owner_id=-66669811&offset=10&count=1&v=5.92'\n",
    "response3 = getjson(url)\n"
   ]
  },
  {
   "cell_type": "code",
   "execution_count": 166,
   "metadata": {},
   "outputs": [],
   "source": [
    "# сдвигаем запрос и получаем запись из паблика Skillbox Вконтакте на 27 ноя в 19:38 (про черную пятницу, offset=10)\n",
    "#и ещё 31 записей назад (count=31)\n",
    "\n",
    "url = 'https://api.vk.com/method/wall.get?access_token=' + str(vk_token) + '&owner_id=-66669811&offset=10&count=31&v=5.92'\n",
    "response3 = getjson(url)\n"
   ]
  },
  {
   "cell_type": "markdown",
   "metadata": {},
   "source": [
    "**Примечание**\n",
    "\n",
    "В качестве объекта анализа я решила выбрать посты со стены паблика Skillbox за период c 02 ноября 2020 года по 27 ноября 2020 года (так как это день больших скидок - большое событие), т.е. за 31 день. \n",
    "Мне кажется, что за этот период SMM-отдел подготовил большое количество рекламных постов в поддержку большой акции на \"Черную Пятницу\", проверим эту **гипотезу**."
   ]
  },
  {
   "cell_type": "code",
   "execution_count": 212,
   "metadata": {},
   "outputs": [
    {
     "data": {
      "text/html": [
       "<div>\n",
       "<style scoped>\n",
       "    .dataframe tbody tr th:only-of-type {\n",
       "        vertical-align: middle;\n",
       "    }\n",
       "\n",
       "    .dataframe tbody tr th {\n",
       "        vertical-align: top;\n",
       "    }\n",
       "\n",
       "    .dataframe thead th {\n",
       "        text-align: right;\n",
       "    }\n",
       "</style>\n",
       "<table border=\"1\" class=\"dataframe\">\n",
       "  <thead>\n",
       "    <tr style=\"text-align: right;\">\n",
       "      <th></th>\n",
       "      <th>id</th>\n",
       "      <th>from_id</th>\n",
       "      <th>owner_id</th>\n",
       "      <th>date</th>\n",
       "      <th>marked_as_ads</th>\n",
       "      <th>post_type</th>\n",
       "      <th>text</th>\n",
       "      <th>attachments</th>\n",
       "      <th>is_favorite</th>\n",
       "      <th>comments.count</th>\n",
       "      <th>likes.count</th>\n",
       "      <th>reposts.count</th>\n",
       "      <th>views.count</th>\n",
       "    </tr>\n",
       "  </thead>\n",
       "  <tbody>\n",
       "    <tr>\n",
       "      <th>0</th>\n",
       "      <td>127212</td>\n",
       "      <td>-66669811</td>\n",
       "      <td>-66669811</td>\n",
       "      <td>1606491528</td>\n",
       "      <td>0</td>\n",
       "      <td>post</td>\n",
       "      <td>Пятница — любимый день недели? А если она Черн...</td>\n",
       "      <td>[{'type': 'photo', 'photo': {'album_id': -7, '...</td>\n",
       "      <td>False</td>\n",
       "      <td>0</td>\n",
       "      <td>25</td>\n",
       "      <td>2</td>\n",
       "      <td>22158</td>\n",
       "    </tr>\n",
       "    <tr>\n",
       "      <th>1</th>\n",
       "      <td>126629</td>\n",
       "      <td>-66669811</td>\n",
       "      <td>-66669811</td>\n",
       "      <td>1606408803</td>\n",
       "      <td>0</td>\n",
       "      <td>post</td>\n",
       "      <td>Приложения — это инструменты, которые помогают...</td>\n",
       "      <td>[{'type': 'link', 'link': {'url': 'https://ski...</td>\n",
       "      <td>False</td>\n",
       "      <td>2</td>\n",
       "      <td>83</td>\n",
       "      <td>21</td>\n",
       "      <td>22141</td>\n",
       "    </tr>\n",
       "    <tr>\n",
       "      <th>2</th>\n",
       "      <td>126596</td>\n",
       "      <td>-66669811</td>\n",
       "      <td>-66669811</td>\n",
       "      <td>1606387615</td>\n",
       "      <td>0</td>\n",
       "      <td>post</td>\n",
       "      <td>После учебы или работы очень важно хорошенько ...</td>\n",
       "      <td>[{'type': 'photo', 'photo': {'album_id': -7, '...</td>\n",
       "      <td>False</td>\n",
       "      <td>5</td>\n",
       "      <td>167</td>\n",
       "      <td>16</td>\n",
       "      <td>33024</td>\n",
       "    </tr>\n",
       "  </tbody>\n",
       "</table>\n",
       "</div>"
      ],
      "text/plain": [
       "       id   from_id  owner_id        date  marked_as_ads post_type  \\\n",
       "0  127212 -66669811 -66669811  1606491528              0      post   \n",
       "1  126629 -66669811 -66669811  1606408803              0      post   \n",
       "2  126596 -66669811 -66669811  1606387615              0      post   \n",
       "\n",
       "                                                text  \\\n",
       "0  Пятница — любимый день недели? А если она Черн...   \n",
       "1  Приложения — это инструменты, которые помогают...   \n",
       "2  После учебы или работы очень важно хорошенько ...   \n",
       "\n",
       "                                         attachments  is_favorite  \\\n",
       "0  [{'type': 'photo', 'photo': {'album_id': -7, '...        False   \n",
       "1  [{'type': 'link', 'link': {'url': 'https://ski...        False   \n",
       "2  [{'type': 'photo', 'photo': {'album_id': -7, '...        False   \n",
       "\n",
       "   comments.count  likes.count  reposts.count  views.count  \n",
       "0               0           25              2        22158  \n",
       "1               2           83             21        22141  \n",
       "2               5          167             16        33024  "
      ]
     },
     "execution_count": 212,
     "metadata": {},
     "output_type": "execute_result"
    }
   ],
   "source": [
    "# преобразуем вложенный файл JSON в датафрейме за выбранный период c помощью pd.json_normalize\n",
    "\n",
    "df = pd.json_normalize(response3['response']['items'])\n",
    "df.head(3)"
   ]
  },
  {
   "cell_type": "code",
   "execution_count": 232,
   "metadata": {},
   "outputs": [],
   "source": [
    "# сохраним полученный датафрейм, чтобы не было необходимости использовать токен для обращения к анализируемому периоду\n",
    "\n",
    "df.to_csv('df.csv')\n"
   ]
  },
  {
   "cell_type": "code",
   "execution_count": 2,
   "metadata": {},
   "outputs": [],
   "source": [
    "# загрузим содержимое файла df.csv\n",
    "\n",
    "df = pd.read_csv('df.csv')"
   ]
  },
  {
   "cell_type": "code",
   "execution_count": 3,
   "metadata": {},
   "outputs": [
    {
     "data": {
      "text/html": [
       "<div>\n",
       "<style scoped>\n",
       "    .dataframe tbody tr th:only-of-type {\n",
       "        vertical-align: middle;\n",
       "    }\n",
       "\n",
       "    .dataframe tbody tr th {\n",
       "        vertical-align: top;\n",
       "    }\n",
       "\n",
       "    .dataframe thead th {\n",
       "        text-align: right;\n",
       "    }\n",
       "</style>\n",
       "<table border=\"1\" class=\"dataframe\">\n",
       "  <thead>\n",
       "    <tr style=\"text-align: right;\">\n",
       "      <th></th>\n",
       "      <th>date</th>\n",
       "      <th>text</th>\n",
       "      <th>comments.count</th>\n",
       "      <th>likes.count</th>\n",
       "      <th>reposts.count</th>\n",
       "      <th>views.count</th>\n",
       "    </tr>\n",
       "  </thead>\n",
       "  <tbody>\n",
       "    <tr>\n",
       "      <th>0</th>\n",
       "      <td>1606491528</td>\n",
       "      <td>Пятница — любимый день недели? А если она Черн...</td>\n",
       "      <td>0</td>\n",
       "      <td>25</td>\n",
       "      <td>2</td>\n",
       "      <td>22158</td>\n",
       "    </tr>\n",
       "    <tr>\n",
       "      <th>1</th>\n",
       "      <td>1606408803</td>\n",
       "      <td>Приложения — это инструменты, которые помогают...</td>\n",
       "      <td>2</td>\n",
       "      <td>83</td>\n",
       "      <td>21</td>\n",
       "      <td>22141</td>\n",
       "    </tr>\n",
       "    <tr>\n",
       "      <th>2</th>\n",
       "      <td>1606387615</td>\n",
       "      <td>После учебы или работы очень важно хорошенько ...</td>\n",
       "      <td>5</td>\n",
       "      <td>167</td>\n",
       "      <td>16</td>\n",
       "      <td>33024</td>\n",
       "    </tr>\n",
       "  </tbody>\n",
       "</table>\n",
       "</div>"
      ],
      "text/plain": [
       "         date                                               text  \\\n",
       "0  1606491528  Пятница — любимый день недели? А если она Черн...   \n",
       "1  1606408803  Приложения — это инструменты, которые помогают...   \n",
       "2  1606387615  После учебы или работы очень важно хорошенько ...   \n",
       "\n",
       "   comments.count  likes.count  reposts.count  views.count  \n",
       "0               0           25              2        22158  \n",
       "1               2           83             21        22141  \n",
       "2               5          167             16        33024  "
      ]
     },
     "execution_count": 3,
     "metadata": {},
     "output_type": "execute_result"
    }
   ],
   "source": [
    "# создадим новый датафрейме, оставив только те столбцы, которые нас интересуют для анализа\n",
    "\n",
    "df1= df[['date', 'text', 'comments.count', 'likes.count','reposts.count','views.count']]\n",
    "df1.head(3)"
   ]
  },
  {
   "cell_type": "code",
   "execution_count": 145,
   "metadata": {},
   "outputs": [],
   "source": [
    "# преобразуем дату и время с помощью вызова функций и класса datetime\n",
    "\n",
    "def date(date):\n",
    "    return (datetime.fromtimestamp(date) - timedelta(hours=0)).strftime('%Y-%m-%d')\n",
    "\n",
    "# отдельно найдем количество часов для удобства расчетов для  дальнейшего анализа\n",
    "\n",
    "def hour(date):\n",
    "    return (datetime.fromtimestamp(date) - timedelta(hours=0)).strftime('%H')\n"
   ]
  },
  {
   "cell_type": "code",
   "execution_count": 146,
   "metadata": {},
   "outputs": [
    {
     "data": {
      "text/html": [
       "<div>\n",
       "<style scoped>\n",
       "    .dataframe tbody tr th:only-of-type {\n",
       "        vertical-align: middle;\n",
       "    }\n",
       "\n",
       "    .dataframe tbody tr th {\n",
       "        vertical-align: top;\n",
       "    }\n",
       "\n",
       "    .dataframe thead th {\n",
       "        text-align: right;\n",
       "    }\n",
       "</style>\n",
       "<table border=\"1\" class=\"dataframe\">\n",
       "  <thead>\n",
       "    <tr style=\"text-align: right;\">\n",
       "      <th></th>\n",
       "      <th>date</th>\n",
       "      <th>text</th>\n",
       "      <th>comments.count</th>\n",
       "      <th>likes.count</th>\n",
       "      <th>reposts.count</th>\n",
       "      <th>views.count</th>\n",
       "      <th>dates</th>\n",
       "      <th>hour</th>\n",
       "    </tr>\n",
       "  </thead>\n",
       "  <tbody>\n",
       "    <tr>\n",
       "      <th>0</th>\n",
       "      <td>1606491528</td>\n",
       "      <td>Пятница — любимый день недели? А если она Черн...</td>\n",
       "      <td>0</td>\n",
       "      <td>25</td>\n",
       "      <td>2</td>\n",
       "      <td>22158</td>\n",
       "      <td>2020-11-27</td>\n",
       "      <td>19</td>\n",
       "    </tr>\n",
       "    <tr>\n",
       "      <th>1</th>\n",
       "      <td>1606408803</td>\n",
       "      <td>Приложения — это инструменты, которые помогают...</td>\n",
       "      <td>2</td>\n",
       "      <td>83</td>\n",
       "      <td>21</td>\n",
       "      <td>22141</td>\n",
       "      <td>2020-11-26</td>\n",
       "      <td>20</td>\n",
       "    </tr>\n",
       "    <tr>\n",
       "      <th>2</th>\n",
       "      <td>1606387615</td>\n",
       "      <td>После учебы или работы очень важно хорошенько ...</td>\n",
       "      <td>5</td>\n",
       "      <td>167</td>\n",
       "      <td>16</td>\n",
       "      <td>33024</td>\n",
       "      <td>2020-11-26</td>\n",
       "      <td>14</td>\n",
       "    </tr>\n",
       "  </tbody>\n",
       "</table>\n",
       "</div>"
      ],
      "text/plain": [
       "         date                                               text  \\\n",
       "0  1606491528  Пятница — любимый день недели? А если она Черн...   \n",
       "1  1606408803  Приложения — это инструменты, которые помогают...   \n",
       "2  1606387615  После учебы или работы очень важно хорошенько ...   \n",
       "\n",
       "   comments.count  likes.count  reposts.count  views.count       dates hour  \n",
       "0               0           25              2        22158  2020-11-27   19  \n",
       "1               2           83             21        22141  2020-11-26   20  \n",
       "2               5          167             16        33024  2020-11-26   14  "
      ]
     },
     "execution_count": 146,
     "metadata": {},
     "output_type": "execute_result"
    }
   ],
   "source": [
    "# создадим новый датафрейм для добавления\n",
    "\n",
    "df2 = df1.copy()\n",
    "\n",
    "# применям наш метод и меняем столбец с датой\n",
    "\n",
    "df2['dates'] = df2['date'].apply(date)\n",
    "df2['hour'] = df2['date'].apply(hour)\n",
    "\n",
    "df2.head(3)"
   ]
  },
  {
   "cell_type": "code",
   "execution_count": 147,
   "metadata": {},
   "outputs": [],
   "source": [
    "# удалим теперь не нужный для нас столбец date\n",
    "\n",
    "del df2['date']"
   ]
  },
  {
   "cell_type": "code",
   "execution_count": 148,
   "metadata": {},
   "outputs": [],
   "source": [
    "# переименуем столбцы\n",
    "\n",
    "df2 = df2 \\\n",
    ".rename(columns={'comments.count':'comments', 'likes.count':'likes', 'reposts.count':'reposts', 'views.count':'views'})"
   ]
  },
  {
   "cell_type": "code",
   "execution_count": 149,
   "metadata": {},
   "outputs": [
    {
     "data": {
      "text/plain": [
       "comments        2.0\n",
       "likes          51.0\n",
       "reposts         6.0\n",
       "views       24471.0\n",
       "hour           18.0\n",
       "dtype: float64"
      ]
     },
     "execution_count": 149,
     "metadata": {},
     "output_type": "execute_result"
    }
   ],
   "source": [
    "# найдем медианные значения по нашему столбцам\n",
    "\n",
    "df2.median()"
   ]
  },
  {
   "cell_type": "code",
   "execution_count": 150,
   "metadata": {},
   "outputs": [
    {
     "data": {
      "text/html": [
       "<div>\n",
       "<style scoped>\n",
       "    .dataframe tbody tr th:only-of-type {\n",
       "        vertical-align: middle;\n",
       "    }\n",
       "\n",
       "    .dataframe tbody tr th {\n",
       "        vertical-align: top;\n",
       "    }\n",
       "\n",
       "    .dataframe thead th {\n",
       "        text-align: right;\n",
       "    }\n",
       "</style>\n",
       "<table border=\"1\" class=\"dataframe\">\n",
       "  <thead>\n",
       "    <tr style=\"text-align: right;\">\n",
       "      <th></th>\n",
       "      <th>text</th>\n",
       "      <th>comments</th>\n",
       "      <th>likes</th>\n",
       "      <th>reposts</th>\n",
       "      <th>views</th>\n",
       "      <th>dates</th>\n",
       "      <th>hour</th>\n",
       "    </tr>\n",
       "  </thead>\n",
       "  <tbody>\n",
       "    <tr>\n",
       "      <th>29</th>\n",
       "      <td>У диджитал-эпохи много плюсов, всех не перечис...</td>\n",
       "      <td>23</td>\n",
       "      <td>518</td>\n",
       "      <td>94</td>\n",
       "      <td>89953</td>\n",
       "      <td>2020-11-02</td>\n",
       "      <td>18</td>\n",
       "    </tr>\n",
       "    <tr>\n",
       "      <th>28</th>\n",
       "      <td>Главный закон веб-разработки: “То, что выгляди...</td>\n",
       "      <td>28</td>\n",
       "      <td>127</td>\n",
       "      <td>19</td>\n",
       "      <td>77600</td>\n",
       "      <td>2020-11-02</td>\n",
       "      <td>20</td>\n",
       "    </tr>\n",
       "    <tr>\n",
       "      <th>30</th>\n",
       "      <td>Придумали лекарство от грусти в самый хмурый м...</td>\n",
       "      <td>13</td>\n",
       "      <td>119</td>\n",
       "      <td>10</td>\n",
       "      <td>61486</td>\n",
       "      <td>2020-11-02</td>\n",
       "      <td>15</td>\n",
       "    </tr>\n",
       "    <tr>\n",
       "      <th>10</th>\n",
       "      <td>Coca-Cola славится своими атмосферными новогод...</td>\n",
       "      <td>41</td>\n",
       "      <td>442</td>\n",
       "      <td>36</td>\n",
       "      <td>37604</td>\n",
       "      <td>2020-11-22</td>\n",
       "      <td>15</td>\n",
       "    </tr>\n",
       "    <tr>\n",
       "      <th>2</th>\n",
       "      <td>После учебы или работы очень важно хорошенько ...</td>\n",
       "      <td>5</td>\n",
       "      <td>167</td>\n",
       "      <td>16</td>\n",
       "      <td>33024</td>\n",
       "      <td>2020-11-26</td>\n",
       "      <td>14</td>\n",
       "    </tr>\n",
       "    <tr>\n",
       "      <th>11</th>\n",
       "      <td>Любите настольные игры, но сейчас стараетесь д...</td>\n",
       "      <td>7</td>\n",
       "      <td>132</td>\n",
       "      <td>15</td>\n",
       "      <td>31857</td>\n",
       "      <td>2020-11-21</td>\n",
       "      <td>15</td>\n",
       "    </tr>\n",
       "    <tr>\n",
       "      <th>14</th>\n",
       "      <td>Артхаус ассоциируется с чем-то скучным и непон...</td>\n",
       "      <td>14</td>\n",
       "      <td>188</td>\n",
       "      <td>28</td>\n",
       "      <td>30598</td>\n",
       "      <td>2020-11-20</td>\n",
       "      <td>14</td>\n",
       "    </tr>\n",
       "    <tr>\n",
       "      <th>26</th>\n",
       "      <td>У нас лекций в ноябре хоть отбавляй! Но отбавл...</td>\n",
       "      <td>0</td>\n",
       "      <td>51</td>\n",
       "      <td>2</td>\n",
       "      <td>28713</td>\n",
       "      <td>2020-11-12</td>\n",
       "      <td>19</td>\n",
       "    </tr>\n",
       "    <tr>\n",
       "      <th>21</th>\n",
       "      <td>Нужна встряска для воображения? Ловите! Серия ...</td>\n",
       "      <td>2</td>\n",
       "      <td>217</td>\n",
       "      <td>20</td>\n",
       "      <td>27810</td>\n",
       "      <td>2020-11-16</td>\n",
       "      <td>18</td>\n",
       "    </tr>\n",
       "    <tr>\n",
       "      <th>19</th>\n",
       "      <td>Для тех, кому на удаленке не хватает офисной а...</td>\n",
       "      <td>14</td>\n",
       "      <td>120</td>\n",
       "      <td>11</td>\n",
       "      <td>27090</td>\n",
       "      <td>2020-11-17</td>\n",
       "      <td>18</td>\n",
       "    </tr>\n",
       "    <tr>\n",
       "      <th>22</th>\n",
       "      <td>Придумали лекарство от грусти в самый хмурый м...</td>\n",
       "      <td>3</td>\n",
       "      <td>51</td>\n",
       "      <td>6</td>\n",
       "      <td>26355</td>\n",
       "      <td>2020-11-16</td>\n",
       "      <td>14</td>\n",
       "    </tr>\n",
       "    <tr>\n",
       "      <th>25</th>\n",
       "      <td>Директор по маркетингу — не просто должность. ...</td>\n",
       "      <td>0</td>\n",
       "      <td>37</td>\n",
       "      <td>2</td>\n",
       "      <td>26242</td>\n",
       "      <td>2020-11-13</td>\n",
       "      <td>18</td>\n",
       "    </tr>\n",
       "    <tr>\n",
       "      <th>4</th>\n",
       "      <td>Недавнее исследование Deloitte показало: мессе...</td>\n",
       "      <td>8</td>\n",
       "      <td>73</td>\n",
       "      <td>4</td>\n",
       "      <td>25557</td>\n",
       "      <td>2020-11-25</td>\n",
       "      <td>16</td>\n",
       "    </tr>\n",
       "    <tr>\n",
       "      <th>20</th>\n",
       "      <td>Рассказываем, как написать рекламный пост для ...</td>\n",
       "      <td>5</td>\n",
       "      <td>152</td>\n",
       "      <td>27</td>\n",
       "      <td>25145</td>\n",
       "      <td>2020-11-16</td>\n",
       "      <td>20</td>\n",
       "    </tr>\n",
       "    <tr>\n",
       "      <th>23</th>\n",
       "      <td>Дуэт фотографов из Канады Les Garcons (@les_ga...</td>\n",
       "      <td>0</td>\n",
       "      <td>94</td>\n",
       "      <td>4</td>\n",
       "      <td>24906</td>\n",
       "      <td>2020-11-15</td>\n",
       "      <td>15</td>\n",
       "    </tr>\n",
       "  </tbody>\n",
       "</table>\n",
       "</div>"
      ],
      "text/plain": [
       "                                                 text  comments  likes  \\\n",
       "29  У диджитал-эпохи много плюсов, всех не перечис...        23    518   \n",
       "28  Главный закон веб-разработки: “То, что выгляди...        28    127   \n",
       "30  Придумали лекарство от грусти в самый хмурый м...        13    119   \n",
       "10  Coca-Cola славится своими атмосферными новогод...        41    442   \n",
       "2   После учебы или работы очень важно хорошенько ...         5    167   \n",
       "11  Любите настольные игры, но сейчас стараетесь д...         7    132   \n",
       "14  Артхаус ассоциируется с чем-то скучным и непон...        14    188   \n",
       "26  У нас лекций в ноябре хоть отбавляй! Но отбавл...         0     51   \n",
       "21  Нужна встряска для воображения? Ловите! Серия ...         2    217   \n",
       "19  Для тех, кому на удаленке не хватает офисной а...        14    120   \n",
       "22  Придумали лекарство от грусти в самый хмурый м...         3     51   \n",
       "25  Директор по маркетингу — не просто должность. ...         0     37   \n",
       "4   Недавнее исследование Deloitte показало: мессе...         8     73   \n",
       "20  Рассказываем, как написать рекламный пост для ...         5    152   \n",
       "23  Дуэт фотографов из Канады Les Garcons (@les_ga...         0     94   \n",
       "\n",
       "    reposts  views       dates hour  \n",
       "29       94  89953  2020-11-02   18  \n",
       "28       19  77600  2020-11-02   20  \n",
       "30       10  61486  2020-11-02   15  \n",
       "10       36  37604  2020-11-22   15  \n",
       "2        16  33024  2020-11-26   14  \n",
       "11       15  31857  2020-11-21   15  \n",
       "14       28  30598  2020-11-20   14  \n",
       "26        2  28713  2020-11-12   19  \n",
       "21       20  27810  2020-11-16   18  \n",
       "19       11  27090  2020-11-17   18  \n",
       "22        6  26355  2020-11-16   14  \n",
       "25        2  26242  2020-11-13   18  \n",
       "4         4  25557  2020-11-25   16  \n",
       "20       27  25145  2020-11-16   20  \n",
       "23        4  24906  2020-11-15   15  "
      ]
     },
     "execution_count": 150,
     "metadata": {},
     "output_type": "execute_result"
    }
   ],
   "source": [
    "# отберем публикации, которые собрали просмотров больше, чем медианное значение\n",
    "\n",
    "v = df2.query('views  > 24471').sort_values('views',ascending=False)\n",
    "v"
   ]
  },
  {
   "cell_type": "markdown",
   "metadata": {},
   "source": [
    "**Вывод 1:**\n",
    "\n",
    "Видим, что первые три публикации собрали аномально высокий интерес у пользователей и опубликованы они в один день \"2020-11-02\". Это подозрительно.\n",
    "Проверим содержание постов и комментариев, возможно, эти данные помогут понять почему такой высокий интерес к публикациям именно в этот день.\n"
   ]
  },
  {
   "cell_type": "code",
   "execution_count": 151,
   "metadata": {},
   "outputs": [
    {
     "data": {
      "text/plain": [
       "['Главный закон веб-разработки: “То, что выглядит как нормальный сайт и вроде бы работает как нормальный сайт — не обязательно нормальный сайт!”\\n\\nРазбираемся с валидацией HTML-кода. \\n\\n#Статья_Skillbox #Skillbox_Программирование',\n",
       " 'У диджитал-эпохи много плюсов, всех не перечислить. Но есть и обратная сторона — синдром компьютерного зрения.\\n\\nСделайте паузу — проведите небольшую тренировку для глаз. В карточках собрали упражнения: выполняйте их по очереди или комбинируйте на свое усмотрение. Для большей эффективности повторяйте 5-6 раз в день. Так вы не только сохраните, но даже улучшите зрение.\\n\\n#В_Закладки_Skillbox',\n",
       " 'Придумали лекарство от грусти в самый хмурый месяц в году 😁 Включайте наши вебинары и радуйтесь новым знаниям! На этой неделе проведем интенсив по ландшафтному дизайну, научим настраивать и запускать рекламу в Инстаграме и соберем приложение для работы с данными о погоде и экономике.\\n\\nЖдем вас! \\n\\nВыбирайте интересующие вебинары и подключайтесь: \\n👉 https://vk.cc/aAdmbz\\n\\n#Расписание_Skillbox']"
      ]
     },
     "execution_count": 151,
     "metadata": {},
     "output_type": "execute_result"
    }
   ],
   "source": [
    "# найдём публикации с какими именно содержанием и тегами были \"2020-11-02\"\n",
    "\n",
    "text02 = df2.query('dates  == \"2020-11-02\"')\n",
    "text02['text'].tolist()"
   ]
  },
  {
   "cell_type": "markdown",
   "metadata": {},
   "source": [
    "**Вывод 2:**\n",
    "\n",
    "На первый взгляд, ничего особенного по содержанию и тегам в постах за \"2020-11-02\" нет. \n",
    "Но если проверить комментарии в \"живую\" непосредственно VK, то всё сразу становится понятно. В этот период в СМИ появилась информация о пропаже сооснователя Skillbox. \n",
    "Видимо, подписчики искали информацию о случившемся на странице Skillbox.\n",
    "Удалим данные за этот день, чтобы анализ был более объективным."
   ]
  },
  {
   "cell_type": "code",
   "execution_count": 152,
   "metadata": {},
   "outputs": [],
   "source": [
    "# отбросим данные за 2020-11-02 \n",
    "\n",
    "cases=df2[df2['dates'] != '2020-11-02'].dropna()"
   ]
  },
  {
   "cell_type": "code",
   "execution_count": 153,
   "metadata": {},
   "outputs": [
    {
     "data": {
      "text/plain": [
       "comments        2.0\n",
       "likes          50.5\n",
       "reposts         5.0\n",
       "views       24309.5\n",
       "hour           18.0\n",
       "dtype: float64"
      ]
     },
     "execution_count": 153,
     "metadata": {},
     "output_type": "execute_result"
    }
   ],
   "source": [
    "# пересчитаем медиану\n",
    "\n",
    "cases.median()"
   ]
  },
  {
   "cell_type": "code",
   "execution_count": 156,
   "metadata": {},
   "outputs": [
    {
     "data": {
      "image/png": "[encoded data removed]",
      "text/plain": [
       "<Figure size 432x288 with 1 Axes>"
      ]
     },
     "metadata": {},
     "output_type": "display_data"
    },
    {
     "data": {
      "image/png": "[encoded data removed]",
      "text/plain": [
       "<Figure size 432x288 with 1 Axes>"
      ]
     },
     "metadata": {},
     "output_type": "display_data"
    },
    {
     "data": {
      "image/png": "[encoded data removed]",
      "text/plain": [
       "<Figure size 432x288 with 1 Axes>"
      ]
     },
     "metadata": {},
     "output_type": "display_data"
    },
    {
     "data": {
      "image/png": "[encoded data removed]",
      "text/plain": [
       "<Figure size 432x288 with 1 Axes>"
      ]
     },
     "metadata": {},
     "output_type": "display_data"
    }
   ],
   "source": [
    "# построим графики\n",
    "\n",
    "fig, subplot = plt.subplots()\n",
    "\n",
    "x = cases['hour'].values\n",
    "y = cases['reposts'].values\n",
    "\n",
    "plt.bar(x, y)\n",
    "\n",
    "\n",
    "plt.xticks(rotation='vertical')\n",
    "subplot.set_title('Количество репостов по часам')\n",
    "\n",
    "fig, subplot = plt.subplots()\n",
    "\n",
    "x = cases['hour'].values\n",
    "y = cases['likes'].values\n",
    "\n",
    "plt.bar(x, y)\n",
    "\n",
    "\n",
    "plt.xticks(rotation='vertical')\n",
    "subplot.set_title('Количество лайков по часам')\n",
    "\n",
    "fig, subplot = plt.subplots()\n",
    "\n",
    "x = cases['hour'].values\n",
    "y = cases['comments'].values\n",
    "\n",
    "plt.bar(x, y)\n",
    "\n",
    "plt.xticks(rotation='vertical')\n",
    "subplot.set_title('Количество комментариев по часам')\n",
    "\n",
    "fig, subplot = plt.subplots()\n",
    "\n",
    "x = cases['hour'].values\n",
    "y = cases['views'].values\n",
    "\n",
    "\n",
    "plt.bar(x, y)\n",
    "\n",
    "plt.xticks(rotation='vertical')\n",
    "subplot.set_title('Количество просмотров по часам')\n",
    "\n",
    "plt.show()"
   ]
  },
  {
   "cell_type": "markdown",
   "metadata": {},
   "source": [
    "**Вывод 3:**\n",
    "\n",
    "По графикам очевидно, что самое популярное время по активностям пользователей - это 15 часов"
   ]
  },
  {
   "cell_type": "code",
   "execution_count": 157,
   "metadata": {},
   "outputs": [
    {
     "data": {
      "text/html": [
       "<div>\n",
       "<style scoped>\n",
       "    .dataframe tbody tr th:only-of-type {\n",
       "        vertical-align: middle;\n",
       "    }\n",
       "\n",
       "    .dataframe tbody tr th {\n",
       "        vertical-align: top;\n",
       "    }\n",
       "\n",
       "    .dataframe thead th {\n",
       "        text-align: right;\n",
       "    }\n",
       "</style>\n",
       "<table border=\"1\" class=\"dataframe\">\n",
       "  <thead>\n",
       "    <tr style=\"text-align: right;\">\n",
       "      <th></th>\n",
       "      <th>text</th>\n",
       "      <th>comments</th>\n",
       "      <th>likes</th>\n",
       "      <th>reposts</th>\n",
       "      <th>views</th>\n",
       "      <th>dates</th>\n",
       "      <th>hour</th>\n",
       "    </tr>\n",
       "  </thead>\n",
       "  <tbody>\n",
       "    <tr>\n",
       "      <th>10</th>\n",
       "      <td>Coca-Cola славится своими атмосферными новогод...</td>\n",
       "      <td>41</td>\n",
       "      <td>442</td>\n",
       "      <td>36</td>\n",
       "      <td>37604</td>\n",
       "      <td>2020-11-22</td>\n",
       "      <td>15</td>\n",
       "    </tr>\n",
       "    <tr>\n",
       "      <th>14</th>\n",
       "      <td>Артхаус ассоциируется с чем-то скучным и непон...</td>\n",
       "      <td>14</td>\n",
       "      <td>188</td>\n",
       "      <td>28</td>\n",
       "      <td>30598</td>\n",
       "      <td>2020-11-20</td>\n",
       "      <td>14</td>\n",
       "    </tr>\n",
       "    <tr>\n",
       "      <th>2</th>\n",
       "      <td>После учебы или работы очень важно хорошенько ...</td>\n",
       "      <td>5</td>\n",
       "      <td>167</td>\n",
       "      <td>16</td>\n",
       "      <td>33024</td>\n",
       "      <td>2020-11-26</td>\n",
       "      <td>14</td>\n",
       "    </tr>\n",
       "    <tr>\n",
       "      <th>20</th>\n",
       "      <td>Рассказываем, как написать рекламный пост для ...</td>\n",
       "      <td>5</td>\n",
       "      <td>152</td>\n",
       "      <td>27</td>\n",
       "      <td>25145</td>\n",
       "      <td>2020-11-16</td>\n",
       "      <td>20</td>\n",
       "    </tr>\n",
       "    <tr>\n",
       "      <th>11</th>\n",
       "      <td>Любите настольные игры, но сейчас стараетесь д...</td>\n",
       "      <td>7</td>\n",
       "      <td>132</td>\n",
       "      <td>15</td>\n",
       "      <td>31857</td>\n",
       "      <td>2020-11-21</td>\n",
       "      <td>15</td>\n",
       "    </tr>\n",
       "    <tr>\n",
       "      <th>19</th>\n",
       "      <td>Для тех, кому на удаленке не хватает офисной а...</td>\n",
       "      <td>14</td>\n",
       "      <td>120</td>\n",
       "      <td>11</td>\n",
       "      <td>27090</td>\n",
       "      <td>2020-11-17</td>\n",
       "      <td>18</td>\n",
       "    </tr>\n",
       "  </tbody>\n",
       "</table>\n",
       "</div>"
      ],
      "text/plain": [
       "                                                 text  comments  likes  \\\n",
       "10  Coca-Cola славится своими атмосферными новогод...        41    442   \n",
       "14  Артхаус ассоциируется с чем-то скучным и непон...        14    188   \n",
       "2   После учебы или работы очень важно хорошенько ...         5    167   \n",
       "20  Рассказываем, как написать рекламный пост для ...         5    152   \n",
       "11  Любите настольные игры, но сейчас стараетесь д...         7    132   \n",
       "19  Для тех, кому на удаленке не хватает офисной а...        14    120   \n",
       "\n",
       "    reposts  views       dates hour  \n",
       "10       36  37604  2020-11-22   15  \n",
       "14       28  30598  2020-11-20   14  \n",
       "2        16  33024  2020-11-26   14  \n",
       "20       27  25145  2020-11-16   20  \n",
       "11       15  31857  2020-11-21   15  \n",
       "19       11  27090  2020-11-17   18  "
      ]
     },
     "execution_count": 157,
     "metadata": {},
     "output_type": "execute_result"
    }
   ],
   "source": [
    "# отберем посты, которые выше медианных значений\n",
    "\n",
    "cases1 = cases.query('likes > 51 & comments > 2 & reposts > 5 & views > 24310') \\\n",
    "              .sort_values('likes',ascending=False)\n",
    "cases1"
   ]
  },
  {
   "cell_type": "code",
   "execution_count": 158,
   "metadata": {},
   "outputs": [
    {
     "data": {
      "text/html": [
       "<div>\n",
       "<style scoped>\n",
       "    .dataframe tbody tr th:only-of-type {\n",
       "        vertical-align: middle;\n",
       "    }\n",
       "\n",
       "    .dataframe tbody tr th {\n",
       "        vertical-align: top;\n",
       "    }\n",
       "\n",
       "    .dataframe thead th {\n",
       "        text-align: right;\n",
       "    }\n",
       "</style>\n",
       "<table border=\"1\" class=\"dataframe\">\n",
       "  <thead>\n",
       "    <tr style=\"text-align: right;\">\n",
       "      <th></th>\n",
       "      <th>hour</th>\n",
       "      <th>text</th>\n",
       "    </tr>\n",
       "  </thead>\n",
       "  <tbody>\n",
       "    <tr>\n",
       "      <th>0</th>\n",
       "      <td>14</td>\n",
       "      <td>2</td>\n",
       "    </tr>\n",
       "    <tr>\n",
       "      <th>1</th>\n",
       "      <td>15</td>\n",
       "      <td>2</td>\n",
       "    </tr>\n",
       "    <tr>\n",
       "      <th>2</th>\n",
       "      <td>18</td>\n",
       "      <td>1</td>\n",
       "    </tr>\n",
       "    <tr>\n",
       "      <th>3</th>\n",
       "      <td>20</td>\n",
       "      <td>1</td>\n",
       "    </tr>\n",
       "  </tbody>\n",
       "</table>\n",
       "</div>"
      ],
      "text/plain": [
       "  hour  text\n",
       "0   14     2\n",
       "1   15     2\n",
       "2   18     1\n",
       "3   20     1"
      ]
     },
     "execution_count": 158,
     "metadata": {},
     "output_type": "execute_result"
    }
   ],
   "source": [
    "# найдем в какие часы чаще всего опубликованы самые популярные посты\n",
    "\n",
    "cases1.query('views  > 24310') \\\n",
    "     .groupby('hour', as_index = False) \\\n",
    "     .agg({'text':'count'}) \\\n",
    "     .sort_values('text',ascending=False)"
   ]
  },
  {
   "cell_type": "markdown",
   "metadata": {},
   "source": [
    "**Вывод 4:**\n",
    "\n",
    "Из нашего анализа получается, что самые популярные посты опубликованы где-то в обеденный перерыв с 14 до 15. \n",
    "\n",
    "Давайте проверим **гипотезу** влияет ли тема поста (тег) на популярность поста:"
   ]
  },
  {
   "cell_type": "code",
   "execution_count": 26,
   "metadata": {},
   "outputs": [],
   "source": [
    "#преобразуем столбец датафрейма в список, чтобы выделить теги из текста\n",
    "\n",
    "my_text = cases1['text'].tolist()"
   ]
  },
  {
   "cell_type": "code",
   "execution_count": 27,
   "metadata": {},
   "outputs": [
    {
     "name": "stdout",
     "output_type": "stream",
     "text": [
      "['#Skillbox_Маркетинг', '#Кино_Skillbox', '#В_Закладки_Skillbox', '#Статья_Skillbox', '#Skillbox_Маркетинг', '#Skillbox_управление', '#Подборка_игр_Skillbox', '#Новости_Skillbox']\n"
     ]
    }
   ],
   "source": [
    "# найдем все теги, которые есть в постах c самым больших количеством лайков с помощью регулярных выражений\n",
    "\n",
    "textlookfor = r\"#\\w+\\b\" # слова с заглавной\n",
    "allres = re.findall(textlookfor, str(my_text))\n",
    "print(allres)"
   ]
  },
  {
   "cell_type": "markdown",
   "metadata": {},
   "source": [
    "**Вывод 5:**\n",
    "\n",
    "У нас получилось 7 тегов, которые вызывают наибольший интерес у пользователей. \n",
    "Подготовим данные для построения графиков для проверки нашей гипотезы - взаимосвязи тега с популярностью поста"
   ]
  },
  {
   "cell_type": "code",
   "execution_count": 120,
   "metadata": {},
   "outputs": [],
   "source": [
    "# найдем посты, которые содержат наши теги в тексте и создадим новый датасет для построения графиков\n",
    "\n",
    "mark = cases[cases['text'].str.contains('#Skillbox_Маркетинг')]\n",
    "mark_median = pd.DataFrame(mark.median()).T\n",
    "\n",
    "cinema = cases[cases['text'].str.contains('#Кино_Skillbox')]\n",
    "cinema_median = pd.DataFrame(cinema.median()).T\n",
    "\n",
    "teg = cases[cases['text'].str.contains('#В_Закладки_Skillbox')]\n",
    "teg_median = pd.DataFrame(teg.median()).T\n",
    "\n",
    "art = cases[cases['text'].str.contains('#Статья_Skillbox')]\n",
    "art_median = pd.DataFrame(art.median()).T\n",
    "\n",
    "manag = cases[cases['text'].str.contains('#Skillbox_управление')]\n",
    "manag_median = pd.DataFrame(manag.median()).T\n",
    "\n",
    "game = cases[cases['text'].str.contains('#Подборка_игр_Skillbox')]\n",
    "game_median = pd.DataFrame(game.median()).T\n",
    "\n",
    "news = cases[cases['text'].str.contains('#Новости_Skillbox')]\n",
    "news_median = pd.DataFrame(news.median()).T\n"
   ]
  },
  {
   "cell_type": "code",
   "execution_count": 133,
   "metadata": {},
   "outputs": [
    {
     "data": {
      "image/png": "[encoded data removed]",
      "text/plain": [
       "<Figure size 432x288 with 1 Axes>"
      ]
     },
     "metadata": {},
     "output_type": "display_data"
    },
    {
     "data": {
      "image/png": "[encoded data removed]",
      "text/plain": [
       "<Figure size 432x288 with 1 Axes>"
      ]
     },
     "metadata": {},
     "output_type": "display_data"
    },
    {
     "data": {
      "image/png": "[encoded data removed]",
      "text/plain": [
       "<Figure size 432x288 with 1 Axes>"
      ]
     },
     "metadata": {},
     "output_type": "display_data"
    },
    {
     "data": {
      "image/png": "[encoded data removed]",
      "text/plain": [
       "<Figure size 432x288 with 1 Axes>"
      ]
     },
     "metadata": {},
     "output_type": "display_data"
    }
   ],
   "source": [
    "# построим графики\n",
    "\n",
    "x = ['#Skillbox_Маркетинг','#Кино_Skillbox','#В_Закладки_Skillbox'\n",
    "    ,'#Статья_Skillbox', '#Skillbox_управление', '#Подборка_игр_Skillbox', '#Новости_Skillbox']\n",
    "\n",
    "y = [mark_median.loc[0, 'likes'], cinema_median.loc[0, 'likes'], \n",
    "    teg_median.loc[0, 'likes'], art_median.loc[0, 'likes'], \n",
    "    manag_median.loc[0, 'likes'], game_median.loc[0, 'likes'], news_median.loc[0, 'likes']]\n",
    "\n",
    "clr = ('red', 'brown', 'green', 'yellow', 'pink', 'blue', 'orange')\n",
    "fig, subplot = plt.subplots()\n",
    "subplot.bar(x, y, color = clr )\n",
    "plt.xticks(rotation='vertical')\n",
    "subplot.set_title('Медианное число лайков по тегам')\n",
    "\n",
    "\n",
    "y = [mark_median.loc[0, 'reposts'], cinema_median.loc[0, 'reposts'], \n",
    "    teg_median.loc[0, 'reposts'], art_median.loc[0, 'reposts'], \n",
    "    manag_median.loc[0, 'reposts'], game_median.loc[0, 'reposts'], news_median.loc[0, 'reposts']]\n",
    "\n",
    "fig, subplot = plt.subplots()\n",
    "subplot.bar(x, y, color = clr )\n",
    "plt.xticks(rotation='vertical')\n",
    "subplot.set_title('Медианное число репостов по тегам')\n",
    "\n",
    "\n",
    "y = [mark_median.loc[0, 'comments'], cinema_median.loc[0, 'comments'], \n",
    "    teg_median.loc[0, 'comments'], art_median.loc[0, 'comments'], \n",
    "    manag_median.loc[0, 'comments'], game_median.loc[0, 'comments'], news_median.loc[0, 'comments']]\n",
    "\n",
    "fig, subplot = plt.subplots()\n",
    "subplot.bar(x, y, color = clr )\n",
    "plt.xticks(rotation='vertical')\n",
    "subplot.set_title('Медианное число комментариев по тегам')\n",
    "\n",
    "\n",
    "y = [mark_median.loc[0, 'views'], cinema_median.loc[0, 'views'], \n",
    "    teg_median.loc[0, 'views'], art_median.loc[0, 'views'], \n",
    "    manag_median.loc[0, 'views'], game_median.loc[0, 'views'], news_median.loc[0, 'views']]\n",
    "\n",
    "fig, subplot = plt.subplots()\n",
    "subplot.bar(x, y, color = clr )\n",
    "plt.xticks(rotation='vertical')\n",
    "subplot.set_title('Медианное число просмотров по тегам')\n",
    "\n",
    "plt.show()"
   ]
  },
  {
   "cell_type": "markdown",
   "metadata": {},
   "source": [
    "**Результат**\n",
    "\n",
    "В процессе работы мы выяснили:\n",
    "\n",
    "- аномально высокий интерес у пользователей к определенным постам вероятнее всего носит случайный характер. Такие посты лучше удалить из выборки;\n",
    "- за выбранный период в 31 день взаимосвязи между \"Черной Пятницой\" и постами не было;\n",
    "- самые популярные посты опубликованы в обеденный перерыв с 14 до 15;\n",
    "- самый большой интерес вызывают пост с тегами '#Кино_Skillbox', '#В_Закладки_Skillbox';\n",
    "- больше всего обсуждают '#Кино_Skillbox', '#Новости_Skillbox'\n",
    "\n",
    "Таким образом, SMM-отделу Skillbox можно рекомендовать продолжать делать упор на полезный контент (например, уход за глазами, осанкой и т.д.), а также обсуждение неоднозначных дизайнов, фильмов и фактов и анонсы бесплатных интенсивов.\n",
    "\n",
    "Чтобы повысить интерес у платёжеспособной аудитории, предлагаю обратить внимание на такие темы, как бизнес, электроника, авто, медицина, недвижимость. \n",
    "Я думаю, что нужно подвязывать эти темы через призму, что обучение - это ключ к возможностям обрести желаемое. Будь то собственный бизнес, IPhone последней модели и долгожданная квартира."
   ]
  }
 ],
 "metadata": {
  "colab": {
   "collapsed_sections": [],
   "name": "Coursework_analytics_2.ipynb",
   "provenance": []
  },
  "kernelspec": {
   "display_name": "Python 3",
   "language": "python",
   "name": "python3"
  },
  "language_info": {
   "codemirror_mode": {
    "name": "ipython",
    "version": 3
   },
   "file_extension": ".py",
   "mimetype": "text/x-python",
   "name": "python",
   "nbconvert_exporter": "python",
   "pygments_lexer": "ipython3",
   "version": "3.7.6"
  }
 },
 "nbformat": 4,
 "nbformat_minor": 1
}
